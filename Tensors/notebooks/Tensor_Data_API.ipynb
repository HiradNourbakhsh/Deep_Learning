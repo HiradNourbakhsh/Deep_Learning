{
  "nbformat": 4,
  "nbformat_minor": 0,
  "metadata": {
    "colab": {
      "provenance": []
    },
    "kernelspec": {
      "name": "python3",
      "display_name": "Python 3"
    },
    "widgets": {
      "application/vnd.jupyter.widget-state+json": {
        "a238fd44950d419395ab47415075c3c6": {
          "model_module": "@jupyter-widgets/controls",
          "model_name": "HBoxModel",
          "model_module_version": "1.5.0",
          "state": {
            "_dom_classes": [],
            "_model_module": "@jupyter-widgets/controls",
            "_model_module_version": "1.5.0",
            "_model_name": "HBoxModel",
            "_view_count": null,
            "_view_module": "@jupyter-widgets/controls",
            "_view_module_version": "1.5.0",
            "_view_name": "HBoxView",
            "box_style": "",
            "children": [
              "IPY_MODEL_58b3642aca174c4792f2db8c541cdf51",
              "IPY_MODEL_addd3e76d00241b89e0098111fb047bc",
              "IPY_MODEL_63155685d8cc45d998c2fc4e20ebc143"
            ],
            "layout": "IPY_MODEL_0c95db6fa1c44ad3aa6edf05785d3ed0"
          }
        },
        "58b3642aca174c4792f2db8c541cdf51": {
          "model_module": "@jupyter-widgets/controls",
          "model_name": "HTMLModel",
          "model_module_version": "1.5.0",
          "state": {
            "_dom_classes": [],
            "_model_module": "@jupyter-widgets/controls",
            "_model_module_version": "1.5.0",
            "_model_name": "HTMLModel",
            "_view_count": null,
            "_view_module": "@jupyter-widgets/controls",
            "_view_module_version": "1.5.0",
            "_view_name": "HTMLView",
            "description": "",
            "description_tooltip": null,
            "layout": "IPY_MODEL_dca9f909d6eb4da1a81c431b3da9b580",
            "placeholder": "​",
            "style": "IPY_MODEL_2de87a11899a42b682c32da8fb3c0135",
            "value": "Dl Completed...: 100%"
          }
        },
        "addd3e76d00241b89e0098111fb047bc": {
          "model_module": "@jupyter-widgets/controls",
          "model_name": "FloatProgressModel",
          "model_module_version": "1.5.0",
          "state": {
            "_dom_classes": [],
            "_model_module": "@jupyter-widgets/controls",
            "_model_module_version": "1.5.0",
            "_model_name": "FloatProgressModel",
            "_view_count": null,
            "_view_module": "@jupyter-widgets/controls",
            "_view_module_version": "1.5.0",
            "_view_name": "ProgressView",
            "bar_style": "success",
            "description": "",
            "description_tooltip": null,
            "layout": "IPY_MODEL_9e2d0cb13c6547e7aded7557791450ed",
            "max": 4,
            "min": 0,
            "orientation": "horizontal",
            "style": "IPY_MODEL_a659689fae124462aff962ef409c5761",
            "value": 4
          }
        },
        "63155685d8cc45d998c2fc4e20ebc143": {
          "model_module": "@jupyter-widgets/controls",
          "model_name": "HTMLModel",
          "model_module_version": "1.5.0",
          "state": {
            "_dom_classes": [],
            "_model_module": "@jupyter-widgets/controls",
            "_model_module_version": "1.5.0",
            "_model_name": "HTMLModel",
            "_view_count": null,
            "_view_module": "@jupyter-widgets/controls",
            "_view_module_version": "1.5.0",
            "_view_name": "HTMLView",
            "description": "",
            "description_tooltip": null,
            "layout": "IPY_MODEL_b817c74c27b64214803204a2a87c2bb4",
            "placeholder": "​",
            "style": "IPY_MODEL_b7b41eae81cb4cd8b4c329439ff80704",
            "value": " 4/4 [00:00&lt;00:00,  9.15 file/s]"
          }
        },
        "0c95db6fa1c44ad3aa6edf05785d3ed0": {
          "model_module": "@jupyter-widgets/base",
          "model_name": "LayoutModel",
          "model_module_version": "1.2.0",
          "state": {
            "_model_module": "@jupyter-widgets/base",
            "_model_module_version": "1.2.0",
            "_model_name": "LayoutModel",
            "_view_count": null,
            "_view_module": "@jupyter-widgets/base",
            "_view_module_version": "1.2.0",
            "_view_name": "LayoutView",
            "align_content": null,
            "align_items": null,
            "align_self": null,
            "border": null,
            "bottom": null,
            "display": null,
            "flex": null,
            "flex_flow": null,
            "grid_area": null,
            "grid_auto_columns": null,
            "grid_auto_flow": null,
            "grid_auto_rows": null,
            "grid_column": null,
            "grid_gap": null,
            "grid_row": null,
            "grid_template_areas": null,
            "grid_template_columns": null,
            "grid_template_rows": null,
            "height": null,
            "justify_content": null,
            "justify_items": null,
            "left": null,
            "margin": null,
            "max_height": null,
            "max_width": null,
            "min_height": null,
            "min_width": null,
            "object_fit": null,
            "object_position": null,
            "order": null,
            "overflow": null,
            "overflow_x": null,
            "overflow_y": null,
            "padding": null,
            "right": null,
            "top": null,
            "visibility": null,
            "width": null
          }
        },
        "dca9f909d6eb4da1a81c431b3da9b580": {
          "model_module": "@jupyter-widgets/base",
          "model_name": "LayoutModel",
          "model_module_version": "1.2.0",
          "state": {
            "_model_module": "@jupyter-widgets/base",
            "_model_module_version": "1.2.0",
            "_model_name": "LayoutModel",
            "_view_count": null,
            "_view_module": "@jupyter-widgets/base",
            "_view_module_version": "1.2.0",
            "_view_name": "LayoutView",
            "align_content": null,
            "align_items": null,
            "align_self": null,
            "border": null,
            "bottom": null,
            "display": null,
            "flex": null,
            "flex_flow": null,
            "grid_area": null,
            "grid_auto_columns": null,
            "grid_auto_flow": null,
            "grid_auto_rows": null,
            "grid_column": null,
            "grid_gap": null,
            "grid_row": null,
            "grid_template_areas": null,
            "grid_template_columns": null,
            "grid_template_rows": null,
            "height": null,
            "justify_content": null,
            "justify_items": null,
            "left": null,
            "margin": null,
            "max_height": null,
            "max_width": null,
            "min_height": null,
            "min_width": null,
            "object_fit": null,
            "object_position": null,
            "order": null,
            "overflow": null,
            "overflow_x": null,
            "overflow_y": null,
            "padding": null,
            "right": null,
            "top": null,
            "visibility": null,
            "width": null
          }
        },
        "2de87a11899a42b682c32da8fb3c0135": {
          "model_module": "@jupyter-widgets/controls",
          "model_name": "DescriptionStyleModel",
          "model_module_version": "1.5.0",
          "state": {
            "_model_module": "@jupyter-widgets/controls",
            "_model_module_version": "1.5.0",
            "_model_name": "DescriptionStyleModel",
            "_view_count": null,
            "_view_module": "@jupyter-widgets/base",
            "_view_module_version": "1.2.0",
            "_view_name": "StyleView",
            "description_width": ""
          }
        },
        "9e2d0cb13c6547e7aded7557791450ed": {
          "model_module": "@jupyter-widgets/base",
          "model_name": "LayoutModel",
          "model_module_version": "1.2.0",
          "state": {
            "_model_module": "@jupyter-widgets/base",
            "_model_module_version": "1.2.0",
            "_model_name": "LayoutModel",
            "_view_count": null,
            "_view_module": "@jupyter-widgets/base",
            "_view_module_version": "1.2.0",
            "_view_name": "LayoutView",
            "align_content": null,
            "align_items": null,
            "align_self": null,
            "border": null,
            "bottom": null,
            "display": null,
            "flex": null,
            "flex_flow": null,
            "grid_area": null,
            "grid_auto_columns": null,
            "grid_auto_flow": null,
            "grid_auto_rows": null,
            "grid_column": null,
            "grid_gap": null,
            "grid_row": null,
            "grid_template_areas": null,
            "grid_template_columns": null,
            "grid_template_rows": null,
            "height": null,
            "justify_content": null,
            "justify_items": null,
            "left": null,
            "margin": null,
            "max_height": null,
            "max_width": null,
            "min_height": null,
            "min_width": null,
            "object_fit": null,
            "object_position": null,
            "order": null,
            "overflow": null,
            "overflow_x": null,
            "overflow_y": null,
            "padding": null,
            "right": null,
            "top": null,
            "visibility": null,
            "width": null
          }
        },
        "a659689fae124462aff962ef409c5761": {
          "model_module": "@jupyter-widgets/controls",
          "model_name": "ProgressStyleModel",
          "model_module_version": "1.5.0",
          "state": {
            "_model_module": "@jupyter-widgets/controls",
            "_model_module_version": "1.5.0",
            "_model_name": "ProgressStyleModel",
            "_view_count": null,
            "_view_module": "@jupyter-widgets/base",
            "_view_module_version": "1.2.0",
            "_view_name": "StyleView",
            "bar_color": null,
            "description_width": ""
          }
        },
        "b817c74c27b64214803204a2a87c2bb4": {
          "model_module": "@jupyter-widgets/base",
          "model_name": "LayoutModel",
          "model_module_version": "1.2.0",
          "state": {
            "_model_module": "@jupyter-widgets/base",
            "_model_module_version": "1.2.0",
            "_model_name": "LayoutModel",
            "_view_count": null,
            "_view_module": "@jupyter-widgets/base",
            "_view_module_version": "1.2.0",
            "_view_name": "LayoutView",
            "align_content": null,
            "align_items": null,
            "align_self": null,
            "border": null,
            "bottom": null,
            "display": null,
            "flex": null,
            "flex_flow": null,
            "grid_area": null,
            "grid_auto_columns": null,
            "grid_auto_flow": null,
            "grid_auto_rows": null,
            "grid_column": null,
            "grid_gap": null,
            "grid_row": null,
            "grid_template_areas": null,
            "grid_template_columns": null,
            "grid_template_rows": null,
            "height": null,
            "justify_content": null,
            "justify_items": null,
            "left": null,
            "margin": null,
            "max_height": null,
            "max_width": null,
            "min_height": null,
            "min_width": null,
            "object_fit": null,
            "object_position": null,
            "order": null,
            "overflow": null,
            "overflow_x": null,
            "overflow_y": null,
            "padding": null,
            "right": null,
            "top": null,
            "visibility": null,
            "width": null
          }
        },
        "b7b41eae81cb4cd8b4c329439ff80704": {
          "model_module": "@jupyter-widgets/controls",
          "model_name": "DescriptionStyleModel",
          "model_module_version": "1.5.0",
          "state": {
            "_model_module": "@jupyter-widgets/controls",
            "_model_module_version": "1.5.0",
            "_model_name": "DescriptionStyleModel",
            "_view_count": null,
            "_view_module": "@jupyter-widgets/base",
            "_view_module_version": "1.2.0",
            "_view_name": "StyleView",
            "description_width": ""
          }
        }
      }
    }
  },
  "cells": [
    {
      "cell_type": "markdown",
      "source": [
        "Task:\n",
        "Take the MNIST dataset in the keras.datasets API\n",
        "\n",
        "Put the data into a TFrecord format in multiple files. Then train a keras model that uses tf's Data API to preprocess the data concurrently as the model is being trained.\n",
        "\n",
        "Print a graph of the loss."
      ],
      "metadata": {
        "id": "IN7so9RrevOP"
      }
    },
    {
      "cell_type": "code",
      "metadata": {
        "id": "Sd2egiErR57o"
      },
      "source": [
        "import tensorflow as tf\n",
        "from tensorflow import keras\n",
        "import os\n",
        "import numpy as np"
      ],
      "execution_count": null,
      "outputs": []
    },
    {
      "cell_type": "code",
      "metadata": {
        "id": "vr015S4KR8rH"
      },
      "source": [
        "import tensorflow_datasets as tfds\n",
        "AUTOTUNE = tf.data.experimental.AUTOTUNE"
      ],
      "execution_count": null,
      "outputs": []
    },
    {
      "cell_type": "code",
      "metadata": {
        "id": "xURUFaPwSVh-",
        "colab": {
          "base_uri": "https://localhost:8080/",
          "height": 208,
          "referenced_widgets": [
            "a238fd44950d419395ab47415075c3c6",
            "58b3642aca174c4792f2db8c541cdf51",
            "addd3e76d00241b89e0098111fb047bc",
            "63155685d8cc45d998c2fc4e20ebc143",
            "0c95db6fa1c44ad3aa6edf05785d3ed0",
            "dca9f909d6eb4da1a81c431b3da9b580",
            "2de87a11899a42b682c32da8fb3c0135",
            "9e2d0cb13c6547e7aded7557791450ed",
            "a659689fae124462aff962ef409c5761",
            "b817c74c27b64214803204a2a87c2bb4",
            "b7b41eae81cb4cd8b4c329439ff80704"
          ]
        },
        "outputId": "9617ac43-16dc-4a84-b52d-9331bc14d10d"
      },
      "source": [
        "ds = tfds.load('mnist', shuffle_files=True, as_supervised=True)"
      ],
      "execution_count": null,
      "outputs": [
        {
          "output_type": "stream",
          "name": "stdout",
          "text": [
            "\u001b[1mDownloading and preparing dataset mnist/3.0.1 (download: 11.06 MiB, generated: 21.00 MiB, total: 32.06 MiB) to /root/tensorflow_datasets/mnist/3.0.1...\u001b[0m\n"
          ]
        },
        {
          "output_type": "stream",
          "name": "stderr",
          "text": [
            "WARNING:absl:Dataset mnist is hosted on GCS. It will automatically be downloaded to your\n",
            "local data directory. If you'd instead prefer to read directly from our public\n",
            "GCS bucket (recommended if you're running on GCP), you can instead pass\n",
            "`try_gcs=True` to `tfds.load` or set `data_dir=gs://tfds-data/datasets`.\n",
            "\n"
          ]
        },
        {
          "output_type": "display_data",
          "data": {
            "text/plain": [
              "Dl Completed...:   0%|          | 0/4 [00:00<?, ? file/s]"
            ],
            "application/vnd.jupyter.widget-view+json": {
              "version_major": 2,
              "version_minor": 0,
              "model_id": "a238fd44950d419395ab47415075c3c6"
            }
          },
          "metadata": {}
        },
        {
          "output_type": "stream",
          "name": "stdout",
          "text": [
            "\n",
            "\u001b[1mDataset mnist downloaded and prepared to /root/tensorflow_datasets/mnist/3.0.1. Subsequent calls will reuse this data.\u001b[0m\n"
          ]
        }
      ]
    },
    {
      "cell_type": "code",
      "metadata": {
        "id": "79Z_VbCnScgb",
        "colab": {
          "base_uri": "https://localhost:8080/"
        },
        "outputId": "586a42c4-cbfc-4cbc-b5f1-ed9505a8a91e"
      },
      "source": [
        "ds['test'].cardinality()"
      ],
      "execution_count": null,
      "outputs": [
        {
          "output_type": "execute_result",
          "data": {
            "text/plain": [
              "<tf.Tensor: shape=(), dtype=int64, numpy=10000>"
            ]
          },
          "metadata": {},
          "execution_count": 4
        }
      ]
    },
    {
      "cell_type": "code",
      "metadata": {
        "id": "3gyexCQpTJrR"
      },
      "source": [
        "ds_splits = [\"train\", \"test\"]"
      ],
      "execution_count": null,
      "outputs": []
    },
    {
      "cell_type": "code",
      "metadata": {
        "id": "QRCkHL5RXSyY"
      },
      "source": [
        "def _bytes_feature(value):\n",
        "    if isinstance(value, type(tf.constant(0))):\n",
        "        value = value.numpy()\n",
        "    return tf.train.Feature(bytes_list=tf.train.BytesList(value=[value]))\n",
        "\n",
        "def _float_feature(value):\n",
        "  return tf.train.Feature(float_list=tf.train.FloatList(value=[value]))\n",
        "\n",
        "def _int64_feature(value):\n",
        "  return tf.train.Feature(int64_list=tf.train.Int64List(value=[value]))\n",
        "\n",
        "def serialize_array(array):\n",
        "  array = tf.io.serialize_tensor(array)\n",
        "  return array"
      ],
      "execution_count": null,
      "outputs": []
    },
    {
      "cell_type": "code",
      "metadata": {
        "id": "VaW9AWWYSc7S",
        "colab": {
          "base_uri": "https://localhost:8080/"
        },
        "outputId": "37b44234-59a3-45f4-d397-645c4f29ecf8"
      },
      "source": [
        "for d in ds_splits:\n",
        "  print(\"saving {}\".format(d))\n",
        "  subset = ds[d]\n",
        "\n",
        "  filename = d+\".tfrecords\"\n",
        "  writer = tf.io.TFRecordWriter(filename)\n",
        "  count = 0\n",
        "  for image, label in subset:\n",
        "    data={\n",
        "        'height': _int64_feature(28),\n",
        "        'width': _int64_feature(28),\n",
        "        'depth': _int64_feature(1),\n",
        "        'label': _int64_feature(label),\n",
        "        'image_raw':_bytes_feature(serialize_array(image))\n",
        "        }\n",
        "\n",
        "    out = tf.train.Example(features=tf.train.Features(feature=data))\n",
        "    writer.write(out.SerializeToString())\n",
        "    count +=1\n",
        "  writer.close()\n",
        "  print(count)"
      ],
      "execution_count": null,
      "outputs": [
        {
          "output_type": "stream",
          "name": "stdout",
          "text": [
            "saving train\n",
            "60000\n",
            "saving test\n",
            "10000\n"
          ]
        }
      ]
    },
    {
      "cell_type": "code",
      "metadata": {
        "id": "5Wa2_8utfVCs"
      },
      "source": [
        "def parse_tfr_elem(element):\n",
        "  parse_dict = {\n",
        "      'height': tf.io.FixedLenFeature([], tf.int64),\n",
        "      'width':tf.io.FixedLenFeature([], tf.int64),\n",
        "      'label':tf.io.FixedLenFeature([], tf.int64),\n",
        "      'depth':tf.io.FixedLenFeature([], tf.int64),\n",
        "      'image_raw' : tf.io.FixedLenFeature([], tf.string)\n",
        "  }\n",
        "  example_message = tf.io.parse_single_example(element, parse_dict)\n",
        "\n",
        "  img_raw = example_message['image_raw']\n",
        "  height = example_message['height']\n",
        "  width = example_message['width']\n",
        "  depth = example_message['depth']\n",
        "  label = example_message['label']\n",
        "  \n",
        "  feature = tf.io.parse_tensor(img_raw, out_type=tf.uint8)\n",
        "  feature = tf.reshape(feature, shape=[height,width,depth])\n",
        "  return (feature, label)"
      ],
      "execution_count": null,
      "outputs": []
    },
    {
      "cell_type": "code",
      "metadata": {
        "id": "w7wSfuiuRC1L"
      },
      "source": [
        "def get_dataset(filename, set_type):\n",
        "    ignore_order = tf.data.Options()\n",
        "    ignore_order.experimental_deterministic = False\n",
        "    dataset = tf.data.TFRecordDataset(filename)\n",
        "    \n",
        "    dataset = dataset.with_options(\n",
        "        ignore_order\n",
        "    )  \n",
        "\n",
        "    dataset = dataset.map(\n",
        "        parse_tfr_elem, num_parallel_calls=AUTOTUNE\n",
        "    )\n",
        "\n",
        "    dataset = dataset.shuffle(2048, reshuffle_each_iteration=True)\n",
        "    dataset = dataset.batch(BATCH_SIZE)\n",
        "    dataset = dataset.prefetch(buffer_size=AUTOTUNE)\n",
        "    dataset = dataset.repeat() if set_type =='train' else dataset \n",
        "    return dataset"
      ],
      "execution_count": null,
      "outputs": []
    },
    {
      "cell_type": "code",
      "metadata": {
        "id": "YKcMEWVhxlt2"
      },
      "source": [
        "BATCH_SIZE = 32"
      ],
      "execution_count": null,
      "outputs": []
    },
    {
      "cell_type": "code",
      "metadata": {
        "id": "Q_8WZfLVIHlD"
      },
      "source": [
        "tfr_dataset = get_dataset('train.tfrecords', \"train\")"
      ],
      "execution_count": null,
      "outputs": []
    },
    {
      "cell_type": "code",
      "metadata": {
        "id": "ELbmtqnCQPhX",
        "colab": {
          "base_uri": "https://localhost:8080/"
        },
        "outputId": "fdd1a48c-e9ad-46f4-d962-61a63f24c992"
      },
      "source": [
        "for sample in tfr_dataset.take(1):\n",
        "  print(sample)"
      ],
      "execution_count": null,
      "outputs": [
        {
          "output_type": "stream",
          "name": "stdout",
          "text": [
            "(<tf.Tensor: shape=(32, 28, 28, 1), dtype=uint8, numpy=\n",
            "array([[[[0],\n",
            "         [0],\n",
            "         [0],\n",
            "         ...,\n",
            "         [0],\n",
            "         [0],\n",
            "         [0]],\n",
            "\n",
            "        [[0],\n",
            "         [0],\n",
            "         [0],\n",
            "         ...,\n",
            "         [0],\n",
            "         [0],\n",
            "         [0]],\n",
            "\n",
            "        [[0],\n",
            "         [0],\n",
            "         [0],\n",
            "         ...,\n",
            "         [0],\n",
            "         [0],\n",
            "         [0]],\n",
            "\n",
            "        ...,\n",
            "\n",
            "        [[0],\n",
            "         [0],\n",
            "         [0],\n",
            "         ...,\n",
            "         [0],\n",
            "         [0],\n",
            "         [0]],\n",
            "\n",
            "        [[0],\n",
            "         [0],\n",
            "         [0],\n",
            "         ...,\n",
            "         [0],\n",
            "         [0],\n",
            "         [0]],\n",
            "\n",
            "        [[0],\n",
            "         [0],\n",
            "         [0],\n",
            "         ...,\n",
            "         [0],\n",
            "         [0],\n",
            "         [0]]],\n",
            "\n",
            "\n",
            "       [[[0],\n",
            "         [0],\n",
            "         [0],\n",
            "         ...,\n",
            "         [0],\n",
            "         [0],\n",
            "         [0]],\n",
            "\n",
            "        [[0],\n",
            "         [0],\n",
            "         [0],\n",
            "         ...,\n",
            "         [0],\n",
            "         [0],\n",
            "         [0]],\n",
            "\n",
            "        [[0],\n",
            "         [0],\n",
            "         [0],\n",
            "         ...,\n",
            "         [0],\n",
            "         [0],\n",
            "         [0]],\n",
            "\n",
            "        ...,\n",
            "\n",
            "        [[0],\n",
            "         [0],\n",
            "         [0],\n",
            "         ...,\n",
            "         [0],\n",
            "         [0],\n",
            "         [0]],\n",
            "\n",
            "        [[0],\n",
            "         [0],\n",
            "         [0],\n",
            "         ...,\n",
            "         [0],\n",
            "         [0],\n",
            "         [0]],\n",
            "\n",
            "        [[0],\n",
            "         [0],\n",
            "         [0],\n",
            "         ...,\n",
            "         [0],\n",
            "         [0],\n",
            "         [0]]],\n",
            "\n",
            "\n",
            "       [[[0],\n",
            "         [0],\n",
            "         [0],\n",
            "         ...,\n",
            "         [0],\n",
            "         [0],\n",
            "         [0]],\n",
            "\n",
            "        [[0],\n",
            "         [0],\n",
            "         [0],\n",
            "         ...,\n",
            "         [0],\n",
            "         [0],\n",
            "         [0]],\n",
            "\n",
            "        [[0],\n",
            "         [0],\n",
            "         [0],\n",
            "         ...,\n",
            "         [0],\n",
            "         [0],\n",
            "         [0]],\n",
            "\n",
            "        ...,\n",
            "\n",
            "        [[0],\n",
            "         [0],\n",
            "         [0],\n",
            "         ...,\n",
            "         [0],\n",
            "         [0],\n",
            "         [0]],\n",
            "\n",
            "        [[0],\n",
            "         [0],\n",
            "         [0],\n",
            "         ...,\n",
            "         [0],\n",
            "         [0],\n",
            "         [0]],\n",
            "\n",
            "        [[0],\n",
            "         [0],\n",
            "         [0],\n",
            "         ...,\n",
            "         [0],\n",
            "         [0],\n",
            "         [0]]],\n",
            "\n",
            "\n",
            "       ...,\n",
            "\n",
            "\n",
            "       [[[0],\n",
            "         [0],\n",
            "         [0],\n",
            "         ...,\n",
            "         [0],\n",
            "         [0],\n",
            "         [0]],\n",
            "\n",
            "        [[0],\n",
            "         [0],\n",
            "         [0],\n",
            "         ...,\n",
            "         [0],\n",
            "         [0],\n",
            "         [0]],\n",
            "\n",
            "        [[0],\n",
            "         [0],\n",
            "         [0],\n",
            "         ...,\n",
            "         [0],\n",
            "         [0],\n",
            "         [0]],\n",
            "\n",
            "        ...,\n",
            "\n",
            "        [[0],\n",
            "         [0],\n",
            "         [0],\n",
            "         ...,\n",
            "         [0],\n",
            "         [0],\n",
            "         [0]],\n",
            "\n",
            "        [[0],\n",
            "         [0],\n",
            "         [0],\n",
            "         ...,\n",
            "         [0],\n",
            "         [0],\n",
            "         [0]],\n",
            "\n",
            "        [[0],\n",
            "         [0],\n",
            "         [0],\n",
            "         ...,\n",
            "         [0],\n",
            "         [0],\n",
            "         [0]]],\n",
            "\n",
            "\n",
            "       [[[0],\n",
            "         [0],\n",
            "         [0],\n",
            "         ...,\n",
            "         [0],\n",
            "         [0],\n",
            "         [0]],\n",
            "\n",
            "        [[0],\n",
            "         [0],\n",
            "         [0],\n",
            "         ...,\n",
            "         [0],\n",
            "         [0],\n",
            "         [0]],\n",
            "\n",
            "        [[0],\n",
            "         [0],\n",
            "         [0],\n",
            "         ...,\n",
            "         [0],\n",
            "         [0],\n",
            "         [0]],\n",
            "\n",
            "        ...,\n",
            "\n",
            "        [[0],\n",
            "         [0],\n",
            "         [0],\n",
            "         ...,\n",
            "         [0],\n",
            "         [0],\n",
            "         [0]],\n",
            "\n",
            "        [[0],\n",
            "         [0],\n",
            "         [0],\n",
            "         ...,\n",
            "         [0],\n",
            "         [0],\n",
            "         [0]],\n",
            "\n",
            "        [[0],\n",
            "         [0],\n",
            "         [0],\n",
            "         ...,\n",
            "         [0],\n",
            "         [0],\n",
            "         [0]]],\n",
            "\n",
            "\n",
            "       [[[0],\n",
            "         [0],\n",
            "         [0],\n",
            "         ...,\n",
            "         [0],\n",
            "         [0],\n",
            "         [0]],\n",
            "\n",
            "        [[0],\n",
            "         [0],\n",
            "         [0],\n",
            "         ...,\n",
            "         [0],\n",
            "         [0],\n",
            "         [0]],\n",
            "\n",
            "        [[0],\n",
            "         [0],\n",
            "         [0],\n",
            "         ...,\n",
            "         [0],\n",
            "         [0],\n",
            "         [0]],\n",
            "\n",
            "        ...,\n",
            "\n",
            "        [[0],\n",
            "         [0],\n",
            "         [0],\n",
            "         ...,\n",
            "         [0],\n",
            "         [0],\n",
            "         [0]],\n",
            "\n",
            "        [[0],\n",
            "         [0],\n",
            "         [0],\n",
            "         ...,\n",
            "         [0],\n",
            "         [0],\n",
            "         [0]],\n",
            "\n",
            "        [[0],\n",
            "         [0],\n",
            "         [0],\n",
            "         ...,\n",
            "         [0],\n",
            "         [0],\n",
            "         [0]]]], dtype=uint8)>, <tf.Tensor: shape=(32,), dtype=int64, numpy=\n",
            "array([5, 0, 0, 4, 7, 0, 1, 6, 9, 0, 5, 0, 9, 2, 2, 0, 6, 6, 7, 7, 7, 0,\n",
            "       0, 5, 9, 2, 9, 6, 1, 4, 3, 4])>)\n"
          ]
        }
      ]
    },
    {
      "cell_type": "code",
      "source": [
        "def my_neural_network():\n",
        "  input_ = keras.layers.Input(shape = [28,28, 1])\n",
        "  flatten = keras.layers.Flatten()(input_)\n",
        "  hidden1 = keras.layers.Dense(30, activation = 'relu')(flatten)\n",
        "  hidden2 = keras.layers.Dense(30, activation = 'relu')(hidden1)\n",
        "  hidden3 = keras.layers.Dense(30, activation = 'relu')(hidden2)\n",
        "  concat = keras.layers.concatenate([flatten, hidden3])\n",
        "  output = keras.layers.Dense(10, activation = 'softmax')(concat)\n",
        "\n",
        "  model_1 = keras.models.Model(inputs = [input_], outputs = [output])\n",
        "  model_1.compile(loss = 'sparse_categorical_crossentropy', optimizer = 'sgd', metrics = ['accuracy'])\n",
        "  return model_1"
      ],
      "metadata": {
        "id": "A0sBVh4XQ0ms"
      },
      "execution_count": null,
      "outputs": []
    },
    {
      "cell_type": "code",
      "source": [
        "model = my_neural_network()"
      ],
      "metadata": {
        "id": "JWF7ZEqJVKcn"
      },
      "execution_count": null,
      "outputs": []
    },
    {
      "cell_type": "code",
      "source": [
        "model.summary()"
      ],
      "metadata": {
        "colab": {
          "base_uri": "https://localhost:8080/"
        },
        "id": "ZbCvMkaxVPUf",
        "outputId": "46f4d466-b89d-46ea-e38f-3ae088c6cfbb"
      },
      "execution_count": null,
      "outputs": [
        {
          "output_type": "stream",
          "name": "stdout",
          "text": [
            "Model: \"model_2\"\n",
            "__________________________________________________________________________________________________\n",
            " Layer (type)                   Output Shape         Param #     Connected to                     \n",
            "==================================================================================================\n",
            " input_3 (InputLayer)           [(None, 28, 28, 1)]  0           []                               \n",
            "                                                                                                  \n",
            " flatten_2 (Flatten)            (None, 784)          0           ['input_3[0][0]']                \n",
            "                                                                                                  \n",
            " dense_8 (Dense)                (None, 30)           23550       ['flatten_2[0][0]']              \n",
            "                                                                                                  \n",
            " dense_9 (Dense)                (None, 30)           930         ['dense_8[0][0]']                \n",
            "                                                                                                  \n",
            " dense_10 (Dense)               (None, 30)           930         ['dense_9[0][0]']                \n",
            "                                                                                                  \n",
            " concatenate_2 (Concatenate)    (None, 814)          0           ['flatten_2[0][0]',              \n",
            "                                                                  'dense_10[0][0]']               \n",
            "                                                                                                  \n",
            " dense_11 (Dense)               (None, 10)           8150        ['concatenate_2[0][0]']          \n",
            "                                                                                                  \n",
            "==================================================================================================\n",
            "Total params: 33,560\n",
            "Trainable params: 33,560\n",
            "Non-trainable params: 0\n",
            "__________________________________________________________________________________________________\n"
          ]
        }
      ]
    },
    {
      "cell_type": "code",
      "source": [
        "history = model.fit(tfr_dataset, steps_per_epoch=60000//BATCH_SIZE, epochs = 20)"
      ],
      "metadata": {
        "colab": {
          "base_uri": "https://localhost:8080/"
        },
        "id": "XdP2GPogVaCg",
        "outputId": "57121f20-17b2-4c27-9309-962faf8f2d3d"
      },
      "execution_count": null,
      "outputs": [
        {
          "output_type": "stream",
          "name": "stdout",
          "text": [
            "Epoch 1/20\n",
            "1875/1875 [==============================] - 7s 3ms/step - loss: 316.8770 - accuracy: 0.8429\n",
            "Epoch 2/20\n",
            "1875/1875 [==============================] - 5s 3ms/step - loss: 261.1919 - accuracy: 0.8684\n",
            "Epoch 3/20\n",
            "1875/1875 [==============================] - 5s 3ms/step - loss: 253.2968 - accuracy: 0.8725\n",
            "Epoch 4/20\n",
            "1875/1875 [==============================] - 5s 3ms/step - loss: 244.9316 - accuracy: 0.8746\n",
            "Epoch 5/20\n",
            "1875/1875 [==============================] - 5s 3ms/step - loss: 240.4873 - accuracy: 0.8782\n",
            "Epoch 6/20\n",
            "1875/1875 [==============================] - 5s 3ms/step - loss: 239.7813 - accuracy: 0.8789\n",
            "Epoch 7/20\n",
            "1875/1875 [==============================] - 5s 3ms/step - loss: 237.4817 - accuracy: 0.8800\n",
            "Epoch 8/20\n",
            "1875/1875 [==============================] - 5s 3ms/step - loss: 237.6044 - accuracy: 0.8810\n",
            "Epoch 9/20\n",
            "1875/1875 [==============================] - 5s 3ms/step - loss: 229.5136 - accuracy: 0.8830\n",
            "Epoch 10/20\n",
            "1875/1875 [==============================] - 5s 3ms/step - loss: 231.6781 - accuracy: 0.8827\n",
            "Epoch 11/20\n",
            "1875/1875 [==============================] - 6s 3ms/step - loss: 233.4460 - accuracy: 0.8814\n",
            "Epoch 12/20\n",
            "1875/1875 [==============================] - 5s 3ms/step - loss: 251.2178 - accuracy: 0.8836\n",
            "Epoch 13/20\n",
            "1875/1875 [==============================] - 5s 3ms/step - loss: 234.1612 - accuracy: 0.8823\n",
            "Epoch 14/20\n",
            "1875/1875 [==============================] - 6s 3ms/step - loss: 233.7816 - accuracy: 0.8826\n",
            "Epoch 15/20\n",
            "1875/1875 [==============================] - 5s 3ms/step - loss: 226.7458 - accuracy: 0.8856\n",
            "Epoch 16/20\n",
            "1875/1875 [==============================] - 5s 3ms/step - loss: 232.5554 - accuracy: 0.8840\n",
            "Epoch 17/20\n",
            "1875/1875 [==============================] - 5s 3ms/step - loss: 229.9377 - accuracy: 0.8848\n",
            "Epoch 18/20\n",
            "1875/1875 [==============================] - 6s 3ms/step - loss: 224.6079 - accuracy: 0.8848\n",
            "Epoch 19/20\n",
            "1875/1875 [==============================] - 6s 3ms/step - loss: 224.8928 - accuracy: 0.8871\n",
            "Epoch 20/20\n",
            "1875/1875 [==============================] - 7s 3ms/step - loss: 226.8138 - accuracy: 0.8863\n"
          ]
        }
      ]
    },
    {
      "cell_type": "code",
      "source": [
        "import pandas as pd\n",
        "import matplotlib.pyplot as plt\n",
        "\n",
        "pd.DataFrame(history.history).plot(figsize = (8, 5))\n",
        "plt.grid(True)\n",
        "plt.gca().set_ylim(0, 1)\n",
        "plt.show()"
      ],
      "metadata": {
        "colab": {
          "base_uri": "https://localhost:8080/",
          "height": 324
        },
        "id": "Rmn_Ep8JVreJ",
        "outputId": "3f7b93c0-1dcf-4f17-9f96-e34fb7af5449"
      },
      "execution_count": null,
      "outputs": [
        {
          "output_type": "display_data",
          "data": {
            "text/plain": [
              "<Figure size 576x360 with 1 Axes>"
            ],
            "image/png": "[encoded data removed]"
          },
          "metadata": {
            "needs_background": "light"
          }
        }
      ]
    },
    {
      "cell_type": "code",
      "source": [],
      "metadata": {
        "id": "A6bfA-GAXLFh"
      },
      "execution_count": null,
      "outputs": []
    }
  ]
}